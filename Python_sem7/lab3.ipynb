{
 "cells": [
  {
   "cell_type": "markdown",
   "id": "87aaec48",
   "metadata": {},
   "source": [
    "### Лабораторная работа №3"
   ]
  },
  {
   "cell_type": "markdown",
   "id": "2e8fe9f2",
   "metadata": {},
   "source": [
    "##### <span style=\"color:blue\">Задание.</span> Провести классификацию найденного датасета, методами линеной и логистической регрессий . В формате Markdown написать пояснения. Объяснить почему были выбраны именно такие гиперпараметры, была ли перекрестная проверка, и т.д."
   ]
  },
  {
   "cell_type": "markdown",
   "id": "e123e60b",
   "metadata": {},
   "source": [
    "Сначала мы импортируем необходимые библиотеки и нормализуем данные:"
   ]
  },
  {
   "cell_type": "code",
   "execution_count": 15,
   "id": "13fbc708",
   "metadata": {},
   "outputs": [],
   "source": [
    "from sklearn.model_selection import train_test_split, GridSearchCV\n",
    "from sklearn.preprocessing import LabelEncoder\n",
    "from sklearn.linear_model import LinearRegression, LogisticRegression\n",
    "from sklearn.metrics import accuracy_score, mean_absolute_error, r2_score\n",
    "from sklearn.preprocessing import OneHotEncoder\n",
    "import pandas as pd\n",
    "\n",
    "data = pd.read_csv(\"adult.data\")\n",
    "column_names = ['age', 'workclass', 'fnlwgt', 'education', 'education-num', 'marital-status', \n",
    "                'occupation', 'relationship', 'race', 'sex', 'capital-gain', 'capital-loss', \n",
    "                'hours-per-week', 'native-country', 'income']\n",
    "data.columns = column_names\n",
    "\n",
    "data = data.replace(' ?', pd.NA)\n",
    "\n",
    "data = data.dropna()\n",
    "data = pd.get_dummies(data, columns=['workclass', 'education', 'marital-status', 'occupation', 'relationship', 'race', 'sex', 'native-country'])\n",
    "data['income'] = data['income'].map({' <=50K': 0, ' >50K': 1})"
   ]
  },
  {
   "cell_type": "markdown",
   "id": "be64925a",
   "metadata": {},
   "source": [
    "Разделим данные на независимые переменные (X) и зависимую переменную (y) и проведем предварительную обработку данных (Преобразование категориальных признаков в числовые и разделение на обучающую и тестовую выборки):"
   ]
  },
  {
   "cell_type": "code",
   "execution_count": 16,
   "id": "eb993dfc",
   "metadata": {},
   "outputs": [],
   "source": [
    "X = data.drop('income', axis=1)\n",
    "y = data['income']\n",
    "\n",
    "X_train, X_test, y_train, y_test = train_test_split(X, y, test_size=0.2, random_state=42)"
   ]
  },
  {
   "cell_type": "markdown",
   "id": "79495385",
   "metadata": {},
   "source": [
    "Обучение модели линейной регрессии"
   ]
  },
  {
   "cell_type": "code",
   "execution_count": 17,
   "id": "481c4163",
   "metadata": {},
   "outputs": [],
   "source": [
    "linear_model = LinearRegression()\n",
    "linear_model.fit(X_train, y_train)\n",
    "\n",
    "y_pred_linear = linear_model.predict(X_test)"
   ]
  },
  {
   "cell_type": "markdown",
   "id": "ce036c67",
   "metadata": {},
   "source": [
    "Задаем сетки параметров и ищем лучшие для логистической регрессии:"
   ]
  },
  {
   "cell_type": "code",
   "execution_count": 18,
   "id": "a140b48b",
   "metadata": {},
   "outputs": [
    {
     "name": "stdout",
     "output_type": "stream",
     "text": [
      "Best parameters:  {'C': 0.001, 'penalty': 'l2'}\n"
     ]
    },
    {
     "name": "stderr",
     "output_type": "stream",
     "text": [
      "C:\\ProgramData\\anaconda3\\Lib\\site-packages\\sklearn\\model_selection\\_validation.py:425: FitFailedWarning: \n",
      "30 fits failed out of a total of 60.\n",
      "The score on these train-test partitions for these parameters will be set to nan.\n",
      "If these failures are not expected, you can try to debug them by setting error_score='raise'.\n",
      "\n",
      "Below are more details about the failures:\n",
      "--------------------------------------------------------------------------------\n",
      "30 fits failed with the following error:\n",
      "Traceback (most recent call last):\n",
      "  File \"C:\\ProgramData\\anaconda3\\Lib\\site-packages\\sklearn\\model_selection\\_validation.py\", line 732, in _fit_and_score\n",
      "    estimator.fit(X_train, y_train, **fit_params)\n",
      "  File \"C:\\ProgramData\\anaconda3\\Lib\\site-packages\\sklearn\\base.py\", line 1151, in wrapper\n",
      "    return fit_method(estimator, *args, **kwargs)\n",
      "           ^^^^^^^^^^^^^^^^^^^^^^^^^^^^^^^^^^^^^^\n",
      "  File \"C:\\ProgramData\\anaconda3\\Lib\\site-packages\\sklearn\\linear_model\\_logistic.py\", line 1168, in fit\n",
      "    solver = _check_solver(self.solver, self.penalty, self.dual)\n",
      "             ^^^^^^^^^^^^^^^^^^^^^^^^^^^^^^^^^^^^^^^^^^^^^^^^^^^\n",
      "  File \"C:\\ProgramData\\anaconda3\\Lib\\site-packages\\sklearn\\linear_model\\_logistic.py\", line 56, in _check_solver\n",
      "    raise ValueError(\n",
      "ValueError: Solver lbfgs supports only 'l2' or 'none' penalties, got l1 penalty.\n",
      "\n",
      "  warnings.warn(some_fits_failed_message, FitFailedWarning)\n",
      "C:\\ProgramData\\anaconda3\\Lib\\site-packages\\sklearn\\model_selection\\_search.py:976: UserWarning: One or more of the test scores are non-finite: [       nan 0.78995361        nan 0.78962208        nan 0.78962208\n",
      "        nan 0.78962208        nan 0.78962208        nan 0.78962208]\n",
      "  warnings.warn(\n"
     ]
    }
   ],
   "source": [
    "logistic_model = LogisticRegression()\n",
    "param_grid = {'C': [0.001, 0.01, 0.1, 1, 10, 100], 'penalty': ['l1', 'l2']}\n",
    "\n",
    "grid_search = GridSearchCV(logistic_model, param_grid, cv=5)\n",
    "\n",
    "grid_search.fit(X_train, y_train)\n",
    "\n",
    "print(\"Лучшие параметры: \", grid_search.best_params_)"
   ]
  },
  {
   "cell_type": "markdown",
   "id": "6356b342",
   "metadata": {},
   "source": [
    "Обучение модели логистической регрессии"
   ]
  },
  {
   "cell_type": "code",
   "execution_count": 19,
   "id": "d978f488",
   "metadata": {},
   "outputs": [],
   "source": [
    "best_logistic_model = grid_search.best_estimator_\n",
    "\n",
    "best_logistic_model.fit(X_train, y_train)\n",
    "y_pred_logistic = best_logistic_model.predict(X_test)"
   ]
  },
  {
   "cell_type": "markdown",
   "id": "644cc2a6",
   "metadata": {},
   "source": [
    "Оценка точности"
   ]
  },
  {
   "cell_type": "code",
   "execution_count": 20,
   "id": "cf17adfb",
   "metadata": {
    "scrolled": true
   },
   "outputs": [
    {
     "name": "stdout",
     "output_type": "stream",
     "text": [
      "Точность модели линейной регрессии: 0.8327531907840212\n",
      "Точность модели логистической регрессии: 0.7938007624730649\n"
     ]
    }
   ],
   "source": [
    "accuracy_logistic = accuracy_score(y_test, y_pred_logistic)\n",
    "accuracy_linear = accuracy_score(y_test, y_pred_linear.round())\n",
    "\n",
    "print(\"Точность модели линейной регрессии:\", accuracy_linear)\n",
    "print(\"Точность модели логистической регрессии:\", accuracy_logistic)"
   ]
  },
  {
   "cell_type": "markdown",
   "id": "0d249872",
   "metadata": {},
   "source": [
    "Теперь у нас есть оценка точности для обеих моделей. В данном случае мы использовали параметры по умолчанию для линейной модели. При обучении модели логистической регрессии добавлен параметр max_iter=1000 для избежания предупреждений о сходимости модели."
   ]
  }
 ],
 "metadata": {
  "kernelspec": {
   "display_name": "Python 3 (ipykernel)",
   "language": "python",
   "name": "python3"
  },
  "language_info": {
   "codemirror_mode": {
    "name": "ipython",
    "version": 3
   },
   "file_extension": ".py",
   "mimetype": "text/x-python",
   "name": "python",
   "nbconvert_exporter": "python",
   "pygments_lexer": "ipython3",
   "version": "3.11.5"
  }
 },
 "nbformat": 4,
 "nbformat_minor": 5
}
