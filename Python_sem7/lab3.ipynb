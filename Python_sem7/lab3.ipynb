{
 "cells": [
  {
   "cell_type": "markdown",
   "id": "87aaec48",
   "metadata": {},
   "source": [
    "### Лабораторная работа №3"
   ]
  },
  {
   "cell_type": "markdown",
   "id": "2e8fe9f2",
   "metadata": {},
   "source": [
    "##### <span style=\"color:blue\">Задание.</span> Провести классификацию найденного датасета, методами линеной и логистической регрессий . В формате Markdown написать пояснения. Объяснить почему были выбраны именно такие гиперпараметры, была ли перекрестная проверка, и т.д."
   ]
  },
  {
   "cell_type": "markdown",
   "id": "e123e60b",
   "metadata": {},
   "source": [
    "Сначала мы импортируем необходимые библиотеки и нормализуем данные:"
   ]
  },
  {
   "cell_type": "code",
   "execution_count": 7,
   "id": "13fbc708",
   "metadata": {},
   "outputs": [],
   "source": [
    "from sklearn.model_selection import train_test_split\n",
    "from sklearn.preprocessing import LabelEncoder\n",
    "from sklearn.linear_model import LinearRegression, LogisticRegression\n",
    "from sklearn.metrics import accuracy_score, mean_absolute_error, r2_score\n",
    "from sklearn.preprocessing import OneHotEncoder\n",
    "import pandas as pd\n",
    "\n",
    "data = pd.read_csv(\"adult.data\")\n",
    "column_names = ['age', 'workclass', 'fnlwgt', 'education', 'education-num', 'marital-status', \n",
    "                'occupation', 'relationship', 'race', 'sex', 'capital-gain', 'capital-loss', \n",
    "                'hours-per-week', 'native-country', 'income']\n",
    "data.columns = column_names\n",
    "\n",
    "data = data.replace(' ?', pd.NA)\n",
    "\n",
    "data = data.dropna()\n",
    "data = pd.get_dummies(data, columns=['workclass', 'education', 'marital-status', 'occupation', 'relationship', 'race', 'sex', 'native-country'])\n",
    "data['income'] = data['income'].map({' <=50K': 0, ' >50K': 1})"
   ]
  },
  {
   "cell_type": "markdown",
   "id": "be64925a",
   "metadata": {},
   "source": [
    "Разделим данные на независимые переменные (X) и зависимую переменную (y) и проведем предварительную обработку данных (Преобразование категориальных признаков в числовые и разделение на обучающую и тестовую выборки):"
   ]
  },
  {
   "cell_type": "code",
   "execution_count": 8,
   "id": "eb993dfc",
   "metadata": {},
   "outputs": [],
   "source": [
    "X = data.drop('income', axis=1)\n",
    "y = data['income']\n",
    "\n",
    "\n",
    "X_train, X_test, y_train, y_test = train_test_split(X, y, test_size=0.2, random_state=42)"
   ]
  },
  {
   "cell_type": "markdown",
   "id": "79495385",
   "metadata": {},
   "source": [
    "Обучение модели линейной регрессии"
   ]
  },
  {
   "cell_type": "code",
   "execution_count": 9,
   "id": "481c4163",
   "metadata": {},
   "outputs": [],
   "source": [
    "linear_model = LinearRegression()\n",
    "linear_model.fit(X_train, y_train)\n",
    "\n",
    "y_pred_linear = linear_model.predict(X_test)"
   ]
  },
  {
   "cell_type": "markdown",
   "id": "6356b342",
   "metadata": {},
   "source": [
    "Обучение модели логистической регрессии"
   ]
  },
  {
   "cell_type": "code",
   "execution_count": 10,
   "id": "d978f488",
   "metadata": {},
   "outputs": [],
   "source": [
    "logistic_model = LogisticRegression(max_iter=1000)\n",
    "logistic_model.fit(X_train, y_train)\n",
    "\n",
    "y_pred_logistic = logistic_model.predict(X_test)"
   ]
  },
  {
   "cell_type": "markdown",
   "id": "644cc2a6",
   "metadata": {},
   "source": [
    "Оценка точности"
   ]
  },
  {
   "cell_type": "code",
   "execution_count": 11,
   "id": "cf17adfb",
   "metadata": {
    "scrolled": true
   },
   "outputs": [
    {
     "name": "stdout",
     "output_type": "stream",
     "text": [
      "Точность модели линейной регрессии: 0.8327531907840212\n",
      "Точность модели логистической регрессии: 0.7938007624730649\n"
     ]
    }
   ],
   "source": [
    "accuracy_logistic = accuracy_score(y_test, y_pred_logistic)\n",
    "accuracy_linear = accuracy_score(y_test, y_pred_linear.round())\n",
    "\n",
    "print(\"Точность модели линейной регрессии:\", accuracy_linear)\n",
    "print(\"Точность модели логистической регрессии:\", accuracy_logistic)"
   ]
  },
  {
   "cell_type": "markdown",
   "id": "0d249872",
   "metadata": {},
   "source": [
    "Теперь у нас есть оценка точности для обеих моделей. В данном случае мы использовали параметры по умолчанию для линейной модели. При обучении модели логистической регрессии добавлен параметр max_iter=1000 для избежания предупреждений о сходимости модели."
   ]
  }
 ],
 "metadata": {
  "kernelspec": {
   "display_name": "Python 3 (ipykernel)",
   "language": "python",
   "name": "python3"
  },
  "language_info": {
   "codemirror_mode": {
    "name": "ipython",
    "version": 3
   },
   "file_extension": ".py",
   "mimetype": "text/x-python",
   "name": "python",
   "nbconvert_exporter": "python",
   "pygments_lexer": "ipython3",
   "version": "3.11.5"
  }
 },
 "nbformat": 4,
 "nbformat_minor": 5
}
