{
 "cells": [
  {
   "cell_type": "markdown",
   "id": "4ad90fb3",
   "metadata": {},
   "source": [
    "### Лабораторная работа №5\n",
    "\n",
    "#### <span style=\"color:blue\">Задание.</span> Провести классификацию найденного датасета, методами решающего дерева и случайного леса . В формате Markdown написать пояснения. Объяснить почему были выбраны именно такие гиперпараметры, была ли перекрестная проверка, и т.д."
   ]
  },
  {
   "cell_type": "markdown",
   "id": "f2dad79e",
   "metadata": {},
   "source": [
    "Сначала мы импортируем необходимые библиотеки и нормализуем данные:"
   ]
  },
  {
   "cell_type": "code",
   "execution_count": 8,
   "id": "647c514d",
   "metadata": {},
   "outputs": [],
   "source": [
    "import pandas as pd\n",
    "from sklearn.model_selection import train_test_split\n",
    "from sklearn.tree import DecisionTreeClassifier\n",
    "from sklearn.ensemble import RandomForestClassifier\n",
    "from sklearn.metrics import accuracy_score, classification_report\n",
    "from sklearn.model_selection import cross_val_score\n",
    "\n",
    "data = pd.read_csv(\"adult.data\")\n",
    "column_names = ['age', 'workclass', 'fnlwgt', 'education', 'education-num', 'marital-status', \n",
    "                'occupation', 'relationship', 'race', 'sex', 'capital-gain', 'capital-loss', \n",
    "                'hours-per-week', 'native-country', 'income']\n",
    "data.columns = column_names\n",
    "\n",
    "data = data.replace(' ?', pd.NA)\n",
    "\n",
    "data = data.dropna()\n",
    "data = pd.get_dummies(data, columns=['workclass', 'education', 'marital-status', 'occupation', 'relationship', 'race', 'sex', 'native-country'])\n",
    "data['income'] = data['income'].map({' <=50K': 0, ' >50K': 1})"
   ]
  },
  {
   "cell_type": "markdown",
   "id": "02efebee",
   "metadata": {},
   "source": [
    "Разделение данных на обучающий и тестовый наборы"
   ]
  },
  {
   "cell_type": "code",
   "execution_count": 9,
   "id": "16260580",
   "metadata": {},
   "outputs": [],
   "source": [
    "X = data.drop('income', axis=1)\n",
    "y = data['income']\n",
    "\n",
    "X_train, X_test, y_train, y_test = train_test_split(X, y, test_size=0.2, random_state=42)"
   ]
  },
  {
   "cell_type": "markdown",
   "id": "393e6cf8",
   "metadata": {},
   "source": [
    "#### Метод решающего дерева"
   ]
  },
  {
   "cell_type": "markdown",
   "id": "8295deeb",
   "metadata": {},
   "source": [
    "Создание модели решающего дерева, обучение модели на обучающем наборе и оценка производительности модели на тестовом наборе"
   ]
  },
  {
   "cell_type": "code",
   "execution_count": 10,
   "id": "a237472b",
   "metadata": {},
   "outputs": [
    {
     "name": "stdout",
     "output_type": "stream",
     "text": [
      "Decision Tree Accuracy: 0.8448533068125311\n",
      "Decision Tree Classification Report:\n",
      "               precision    recall  f1-score   support\n",
      "\n",
      "           0       0.89      0.91      0.90      4535\n",
      "           1       0.71      0.64      0.67      1498\n",
      "\n",
      "    accuracy                           0.84      6033\n",
      "   macro avg       0.80      0.78      0.79      6033\n",
      "weighted avg       0.84      0.84      0.84      6033\n",
      "\n"
     ]
    }
   ],
   "source": [
    "decision_tree_model = DecisionTreeClassifier(max_depth=10, random_state=42)\n",
    "\n",
    "decision_tree_model.fit(X_train, y_train)\n",
    "\n",
    "y_pred_tree = decision_tree_model.predict(X_test)\n",
    "accuracy_tree = accuracy_score(y_test, y_pred_tree)\n",
    "report_tree = classification_report(y_test, y_pred_tree)\n",
    "\n",
    "print(f'Decision Tree Accuracy: {accuracy_tree}')\n",
    "print('Decision Tree Classification Report:\\n', report_tree)"
   ]
  },
  {
   "cell_type": "markdown",
   "id": "5262c574",
   "metadata": {},
   "source": [
    "#### Метод случайного леса"
   ]
  },
  {
   "cell_type": "markdown",
   "id": "6d4d2d2f",
   "metadata": {},
   "source": [
    "Создание модели случайного леса, обучение модели на обучающем наборе и оценка производительности модели на тестовом наборе"
   ]
  },
  {
   "cell_type": "code",
   "execution_count": 11,
   "id": "156e53e0",
   "metadata": {},
   "outputs": [
    {
     "name": "stdout",
     "output_type": "stream",
     "text": [
      "Random Forest Accuracy: 0.8514835073760981\n",
      "Random Forest Classification Report:\n",
      "               precision    recall  f1-score   support\n",
      "\n",
      "           0       0.86      0.95      0.91      4535\n",
      "           1       0.79      0.55      0.65      1498\n",
      "\n",
      "    accuracy                           0.85      6033\n",
      "   macro avg       0.83      0.75      0.78      6033\n",
      "weighted avg       0.85      0.85      0.84      6033\n",
      "\n"
     ]
    }
   ],
   "source": [
    "random_forest_model = RandomForestClassifier(n_estimators=100, max_depth=10, random_state=42)\n",
    "\n",
    "random_forest_model.fit(X_train, y_train)\n",
    "\n",
    "y_pred_forest = random_forest_model.predict(X_test)\n",
    "accuracy_forest = accuracy_score(y_test, y_pred_forest)\n",
    "report_forest = classification_report(y_test, y_pred_forest)\n",
    "\n",
    "print(f'Random Forest Accuracy: {accuracy_forest}')\n",
    "print('Random Forest Classification Report:\\n', report_forest)"
   ]
  },
  {
   "cell_type": "markdown",
   "id": "4ebc2ba7",
   "metadata": {},
   "source": [
    "Для повышения надежности оценки производительности модели, проведем кросс-валидацию(например, с 5 фолдами) для решающего дерева и для случайного леса."
   ]
  },
  {
   "cell_type": "code",
   "execution_count": 12,
   "id": "d27998ed",
   "metadata": {},
   "outputs": [
    {
     "name": "stdout",
     "output_type": "stream",
     "text": [
      "Decision Tree Cross-Validation Scores: [0.84485331 0.84930371 0.85278515 0.85576923 0.85593501]\n",
      "Mean Accuracy (Decision Tree): 0.8517292820521615\n",
      "Random Forest Cross-Validation Scores: [0.84733963 0.84731432 0.8579244  0.85809019 0.85709549]\n",
      "Mean Accuracy (Random Forest): 0.8535528070413786\n"
     ]
    }
   ],
   "source": [
    "cv_scores_tree = cross_val_score(decision_tree_model, X, y, cv=5)\n",
    "print('Decision Tree Cross-Validation Scores:', cv_scores_tree)\n",
    "print(f'Mean Accuracy (Decision Tree): {cv_scores_tree.mean()}')\n",
    "\n",
    "cv_scores_forest = cross_val_score(random_forest_model, X, y, cv=5)\n",
    "print('Random Forest Cross-Validation Scores:', cv_scores_forest)\n",
    "print(f'Mean Accuracy (Random Forest): {cv_scores_forest.mean()}')"
   ]
  },
  {
   "cell_type": "markdown",
   "id": "339a3323",
   "metadata": {},
   "source": [
    "Мы выбрали гиперпараметры (например, max_depth и n_estimators) на основе знаний о данных и провели оценку производительности моделей на тестовом наборе, а также использовали перекрестную проверку для оценки их обобщающей способности."
   ]
  }
 ],
 "metadata": {
  "kernelspec": {
   "display_name": "Python 3 (ipykernel)",
   "language": "python",
   "name": "python3"
  },
  "language_info": {
   "codemirror_mode": {
    "name": "ipython",
    "version": 3
   },
   "file_extension": ".py",
   "mimetype": "text/x-python",
   "name": "python",
   "nbconvert_exporter": "python",
   "pygments_lexer": "ipython3",
   "version": "3.11.5"
  }
 },
 "nbformat": 4,
 "nbformat_minor": 5
}
